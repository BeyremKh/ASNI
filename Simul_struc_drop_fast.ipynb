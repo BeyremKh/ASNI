{
 "cells": [
  {
   "cell_type": "markdown",
   "metadata": {},
   "source": [
    "In odrer to compare structured dropout and iid dropout in a linear model regime, we use the simulations embedded in sklearn (which make use of the Madelon synthetic dataset, see references in http://archive.ics.uci.edu/ml/datasets/madelon )\n",
    "we vary: \n",
    "- the number of variables of redundant variables\n",
    "- the number of overall variables \n",
    "\n",
    "we assess classification accuracy on a test set drawn from the same simulation\n",
    "\n"
   ]
  },
  {
   "cell_type": "code",
   "execution_count": 1,
   "metadata": {},
   "outputs": [
    {
     "name": "stderr",
     "output_type": "stream",
     "text": [
      "/cbio/donnees/bkhalfaoui/miniconda3/envs/tensor_gpu/lib/python3.6/site-packages/h5py/__init__.py:36: FutureWarning: Conversion of the second argument of issubdtype from `float` to `np.floating` is deprecated. In future, it will be treated as `np.float64 == np.dtype(float).type`.\n",
      "  from ._conv import register_converters as _register_converters\n",
      "Using TensorFlow backend.\n"
     ]
    },
    {
     "name": "stdout",
     "output_type": "stream",
     "text": [
      "x_train shape: (100, 1000)\n",
      "100 train samples\n",
      "10000 test samples\n"
     ]
    }
   ],
   "source": [
    "import sklearn\n",
    "from sklearn.datasets import make_classification\n",
    "\n",
    "\n",
    "import numpy as np\n",
    "import tensorflow as tf\n",
    "from keras.utils import to_categorical\n",
    "import matplotlib.pyplot as plt\n",
    "import seaborn as sns\n",
    "from IPython.display import set_matplotlib_formats\n",
    "set_matplotlib_formats('svg')\n",
    "\n",
    "\n",
    "x_all, y_all= sklearn.datasets.make_classification(n_samples=10101, n_features=1000, n_informative=100, n_redundant=0, n_repeated=0, n_classes=2, n_clusters_per_class=2, weights=None, flip_y=0.01, class_sep=1.0, hypercube=True, shift=0.0, scale=1.0, shuffle=True, random_state=None)\n",
    "x_train=x_all[range(100),]\n",
    "y_train=y_all[range(100),]\n",
    "x_test=x_all[101:,]\n",
    "y_test=y_all[101:]\n",
    "\n",
    "\n",
    "dim = 1000 \n",
    "nb_train = x_train.shape[0]\n",
    "nb_test = x_test.shape[0]\n",
    "nb_classes=1\n",
    "\n",
    "x_train = x_train.astype('float32')\n",
    "x_test = x_test.astype('float32')\n",
    "\n",
    "\n",
    "print('x_train shape:', x_train.shape)\n",
    "print(nb_train, 'train samples')\n",
    "print(nb_test, 'test samples')\n",
    "\n",
    "# Convert class vectors to binary class matrices.\n",
    "#y_train = to_categorical(y_train, nb_classes)\n",
    "#y_test = to_categorical(y_test, nb_classes)\n",
    "\n",
    "y_train=y_train.reshape(nb_train,1)\n",
    "y_test=y_test.reshape(nb_test,1)\n",
    "\n",
    "batch_size = 32"
   ]
  },
  {
   "cell_type": "code",
   "execution_count": 4,
   "metadata": {
    "collapsed": true
   },
   "outputs": [],
   "source": [
    "from tensorflow.contrib.distributions import MultivariateNormalFullCovariance as mvnfc\n",
    "\n",
    "\n",
    "def dropout_layer(x, mode, l, dim):\n",
    "\n",
    "    if mode == 'struc':\n",
    "        xm = tf.reduce_mean(x, 0)\n",
    "        cov = tf.matmul(tf.transpose(x-xm), x-xm) / batch_size\n",
    "        cov += 1e-2 * tf.eye(dim, dtype='float32')\n",
    "       # dia=tf.sqrt(tf.diag(1/tf.diag_part(cov)))\n",
    "       # corr= tf.matmul(tf.matmul(dia,cov),dia)\n",
    "        sample = mvnfc(tf.zeros(shape=[dim]), cov).sample()\n",
    "        return tf.multiply(x, np.sqrt(l)* sample + tf.ones(shape=[dim]))\n",
    "\n",
    "    elif mode == 'iid':\n",
    "      # mu = tf.Variable(lambda : tf.ones(shape=[dim]))\n",
    "        cov =  tf.eye(dim, dtype='float32')\n",
    "        sample = mvnfc(tf.zeros(shape=[dim]), cov).sample()\n",
    "        return tf.multiply(x, np.sqrt(l)* sample + tf.ones(shape=[dim]))\n",
    "\n",
    "    else:  # no dropout\n",
    "        return x\n",
    "\n",
    "\n",
    "class Linear_Model:\n",
    "\n",
    "    def __init__(self, dim, nb_classes, batch_size, l, mode=None):\n",
    "\n",
    "        self.X = tf.placeholder(tf.float32, [None, dim])\n",
    "        self.Y = tf.placeholder(tf.float32, [None, nb_classes])\n",
    "        self.train = tf.placeholder(tf.bool)\n",
    "\n",
    "        W = tf.Variable(tf.random_uniform([dim, nb_classes], -0.01, 0.01))  # model weights\n",
    "        b = tf.Variable(tf.zeros(shape=[nb_classes]))                       # model biases\n",
    "\n",
    "        self.dl = tf.cond(self.train, lambda : dropout_layer(self.X, mode, l, dim), lambda : self.X)\n",
    "        x = tf.matmul(self.dl, W) + b\n",
    "\n",
    "        # Minimize error using cross entropy\n",
    "        self.probs = tf.nn.sigmoid(x)\n",
    "        log_loss = tf.nn.sigmoid_cross_entropy_with_logits(logits=x, labels=self.Y)\n",
    "        self.mean_log_loss = tf.reduce_mean(log_loss)\n",
    "\n",
    "def training(seqlambda, mode, max_iters=6000, learning_rate=1):\n",
    "\n",
    "    all_accuracies = []\n",
    "    all_cor_norms = []\n",
    "    acts1 = []\n",
    "    for lamb in seqlambda:\n",
    "\n",
    "        print('Lamb', lamb)\n",
    "        accs = [] ; cor_norms = [] \n",
    "        \n",
    "        model = Linear_Model(dim, nb_classes, batch_size, lamb, mode)\n",
    "        #model = MLP(dimension, nb_hidden1, nb_hidden2,nb_classes, batch_size, lamb, mode)\n",
    "\n",
    "        # training parameters\n",
    "        optimiser = tf.train.AdamOptimizer().minimize(model.mean_log_loss)\n",
    "        #optimiser = tf.train.GradientDescentOptimizer(learning_rate=0.01).minimize(model.mean_log_loss)\n",
    "        with tf.Session() as sess:\n",
    "\n",
    "            sess.run(tf.global_variables_initializer())\n",
    "\n",
    "            for iters in range(max_iters):\n",
    "\n",
    "                idx = np.random.randint(nb_train, size=batch_size)\n",
    "\n",
    "                _, loss,train_probs = sess.run([optimiser, model.mean_log_loss,model.probs], feed_dict={\n",
    "                    model.X : x_train[idx], model.Y : y_train[idx], model.train : True})\n",
    "                acc = np.sum(np.round(train_probs) == y_train[idx]) / float(128)\n",
    "               # print(\"train_accuracy\",acc)\n",
    "                #print(np.sum(err1))\n",
    "                #print(np.sum(err2))\n",
    "            \n",
    "\n",
    "                if iters % 200 == 0:\n",
    "                    print('Iteration: %d, %.03f' % (iters, loss))  \n",
    "                    pred= sess.run([model.probs],\n",
    "                                    feed_dict={model.X : x_test, model.train : False})\n",
    "\n",
    "                    acc = np.sum(np.round(pred) == y_test) / float(nb_test)\n",
    "                    accs.append(acc)\n",
    "                    print('Accuracy: %.03f' % acc)\n",
    "            \n",
    "            all_accuracies.append(accs)\n",
    "\n",
    "\n",
    "    return all_accuracies"
   ]
  },
  {
   "cell_type": "markdown",
   "metadata": {},
   "source": [
    "For the training of the linear model, we simulate on 10 runs a set of 100 points with parameters listed in the paper, the model is either regularised using iid Gaussian dropout, Structured dropout (ASNI), or without regularisation. We test the model on each run, and for all regularisation parameters on one test dataset with 10,000 points, then average the accuracy on the 10 runs (and compute the standard deviation).   "
   ]
  },
  {
   "cell_type": "code",
   "execution_count": null,
   "metadata": {
    "scrolled": true
   },
   "outputs": [],
   "source": [
    "\n",
    "\n",
    "\n",
    "max_iters = 2000 \n",
    "lambdas = [1e-6,1e-5,1e-4,1e-3,1e-2,1e-1,1e-0]\n",
    "\n",
    "\n",
    "\n",
    "acc_linear=[]\n",
    "acc_iid=[]\n",
    "acc_struc=[]\n",
    "\n",
    "for i in range(5):            \n",
    "    x_all, y_all= sklearn.datasets.make_classification(n_samples=10101, n_features=100, n_informative=10, n_redundant=0, n_repeated=0, n_classes=2, n_clusters_per_class=2, weights=None, flip_y=0.01, class_sep=1.0, hypercube=True, shift=0.0, scale=1.0, shuffle=True, random_state=None)\n",
    "    x_train=x_all[range(100),]\n",
    "    y_train=y_all[range(100),]\n",
    "    x_test=x_all[101:,]\n",
    "    y_test=y_all[101:]\n",
    "\n",
    "\n",
    "    dim = 100\n",
    "    nb_train = x_train.shape[0]\n",
    "    nb_test = x_test.shape[0]\n",
    "    nb_classes=1\n",
    "\n",
    "    x_train = x_train.astype('float32')\n",
    "    x_test = x_test.astype('float32')\n",
    "\n",
    "\n",
    "    print('x_train shape:', x_train.shape)\n",
    "    print(nb_train, 'train samples')\n",
    "    print(nb_test, 'test samples')\n",
    "\n",
    "    # Convert class vectors to binary class matrices.\n",
    "    #y_train = to_categorical(y_train, nb_classes)\n",
    "    #y_test = to_categorical(y_test, nb_classes)\n",
    "\n",
    "    y_train=y_train.reshape(nb_train,1)\n",
    "    y_test=y_test.reshape(nb_test,1)\n",
    "\n",
    "    batch_size = 32\n",
    "\n",
    "    print('#### iid  #### iteration ',i)\n",
    "    acc_iid_i=training(lambdas, 'iid', max_iters)\n",
    "    acc_iid.append([np.max([np.max(acc) for acc in acc_iid_i])])\n",
    "\n",
    "    print('#### struc #### iteration ',i)\n",
    "    acc_struc_i=training(lambdas, 'struc', max_iters)\n",
    "    acc_struc.append([np.max([np.max(acc) for acc in acc_struc_i])])\n",
    "    print('#### no noise ####   iteration ',i)\n",
    "    acc_linear_i=training([None], None , max_iters)\n",
    "    acc_linear.append([accs[-1] for accs in acc_linear_i])"
   ]
  },
  {
   "cell_type": "code",
   "execution_count": null,
   "metadata": {
    "scrolled": true
   },
   "outputs": [],
   "source": [
    "def training(seqlambda, mode, max_iters=6000, learning_rate=1):\n",
    "\n",
    "    all_accuracies = []\n",
    "    all_cor_norms = []\n",
    "    acts1 = []\n",
    "    for lamb in seqlambda:\n",
    "\n",
    "        print('Lamb', lamb)\n",
    "        accs = [] ; cor_norms = [] \n",
    "        \n",
    "        model = Linear_Model(dim, nb_classes, batch_size, lamb, mode)\n",
    "        #model = MLP(dimension, nb_hidden1, nb_hidden2,nb_classes, batch_size, lamb, mode)\n",
    "\n",
    "        # training parameters\n",
    "        optimiser = tf.train.AdamOptimizer().minimize(model.mean_log_loss)\n",
    "        #optimiser = tf.train.GradientDescentOptimizer(learning_rate=0.01).minimize(model.mean_log_loss)\n",
    "        with tf.Session() as sess:\n",
    "\n",
    "            sess.run(tf.global_variables_initializer())\n",
    "\n",
    "            for iters in range(max_iters):\n",
    "\n",
    "                idx = np.random.randint(nb_train, size=batch_size)\n",
    "\n",
    "                _, loss,train_probs = sess.run([optimiser, model.mean_log_loss,model.probs], feed_dict={\n",
    "                    model.X : x_train[idx], model.Y : y_train[idx], model.train : True})\n",
    "                acc = np.sum(np.round(train_probs) == y_train[idx]) / float(128)\n",
    "               # print(\"train_accuracy\",acc)\n",
    "                #print(np.sum(err1))\n",
    "                #print(np.sum(err2))\n",
    "            \n",
    "\n",
    "                if iters % 200 == 0:\n",
    "                    print('Iteration: %d, %.03f' % (iters, loss))  \n",
    "                    pred= sess.run([model.probs],\n",
    "                                    feed_dict={model.X : x_test, model.train : False})\n",
    "\n",
    "                    acc = np.sum(np.round(pred) == y_test) / float(nb_test)\n",
    "                    accs.append(acc)\n",
    "                    print('Accuracy: %.03f' % acc)\n",
    "            \n",
    "            all_accuracies.append(accs)\n",
    "\n",
    "\n",
    "    return all_accuracies\n",
    "\n",
    "\n",
    "max_iters = 200 \n",
    "lambdas = [1e-6,1e-5,1e-4,1e-3,1e-2,1e-1,1e-0]\n",
    "\n",
    "\n",
    "\n",
    "acc_linear=[]\n",
    "acc_iid=[]\n",
    "acc_struc=[]\n",
    "\n",
    "for i in range(5):            \n",
    "    x_all, y_all= sklearn.datasets.make_classification(n_samples=10101, n_features=100, n_informative=10, n_redundant=0, n_repeated=0, n_classes=2, n_clusters_per_class=2, weights=None, flip_y=0.01, class_sep=1.0, hypercube=True, shift=0.0, scale=1.0, shuffle=True, random_state=None)\n",
    "    x_train=x_all[range(100),]\n",
    "    y_train=y_all[range(100),]\n",
    "    x_test=x_all[101:,]\n",
    "    y_test=y_all[101:]\n",
    "\n",
    "\n",
    "    dim = 100\n",
    "    nb_train = x_train.shape[0]\n",
    "    nb_test = x_test.shape[0]\n",
    "    nb_classes=1\n",
    "\n",
    "    x_train = x_train.astype('float32')\n",
    "    x_test = x_test.astype('float32')\n",
    "\n",
    "\n",
    "    print('x_train shape:', x_train.shape)\n",
    "    print(nb_train, 'train samples')\n",
    "    print(nb_test, 'test samples')\n",
    "\n",
    "    # Convert class vectors to binary class matrices.\n",
    "    #y_train = to_categorical(y_train, nb_classes)\n",
    "    #y_test = to_categorical(y_test, nb_classes)\n",
    "\n",
    "    y_train=y_train.reshape(nb_train,1)\n",
    "    y_test=y_test.reshape(nb_test,1)\n",
    "\n",
    "    batch_size = 32\n",
    "\n",
    "    print('#### iid  #### iteration ',i)\n",
    "    acc_iid_i=training(lambdas, 'iid', max_iters)\n",
    "    acc_iid.append([np.max([np.max(acc) for acc in acc_iid_i])])\n",
    "\n",
    "    print('#### struc #### iteration ',i)\n",
    "    acc_struc_i=training(lambdas, 'struc', max_iters)\n",
    "    acc_struc.append([np.max([np.max(acc) for acc in acc_struc_i])])\n",
    "    print('#### no noise ####   iteration ',i)\n",
    "    acc_linear_i=training([None], None , max_iters)\n",
    "    acc_linear.append([accs[-1] for accs in acc_linear_i])"
   ]
  },
  {
   "cell_type": "code",
   "execution_count": 6,
   "metadata": {},
   "outputs": [
    {
     "data": {
      "text/plain": [
       "(0.6655, 0.0235405182610749)"
      ]
     },
     "execution_count": 6,
     "metadata": {},
     "output_type": "execute_result"
    }
   ],
   "source": [
    "np.mean(acc_linear), np.std(acc_linear)"
   ]
  },
  {
   "cell_type": "code",
   "execution_count": 7,
   "metadata": {},
   "outputs": [
    {
     "data": {
      "text/plain": [
       "(0.6834800000000001, 0.02014580849705467)"
      ]
     },
     "execution_count": 7,
     "metadata": {},
     "output_type": "execute_result"
    }
   ],
   "source": [
    "np.mean(acc_iid), np.std(acc_iid)"
   ]
  },
  {
   "cell_type": "code",
   "execution_count": 8,
   "metadata": {},
   "outputs": [
    {
     "data": {
      "text/plain": [
       "(0.6803999999999999, 0.01981706335459418)"
      ]
     },
     "execution_count": 8,
     "metadata": {},
     "output_type": "execute_result"
    }
   ],
   "source": [
    "np.mean(acc_struc), np.std(acc_struc)"
   ]
  },
  {
   "cell_type": "code",
   "execution_count": null,
   "metadata": {
    "scrolled": true
   },
   "outputs": [],
   "source": [
    "def training(seqlambda, mode, max_iters=6000, learning_rate=1):\n",
    "\n",
    "    all_accuracies = []\n",
    "    all_cor_norms = []\n",
    "    acts1 = []\n",
    "    for lamb in seqlambda:\n",
    "\n",
    "        print('Lamb', lamb)\n",
    "        accs = [] ; cor_norms = [] \n",
    "        \n",
    "        model = Linear_Model(dim, nb_classes, batch_size, lamb, mode)\n",
    "        #model = MLP(dimension, nb_hidden1, nb_hidden2,nb_classes, batch_size, lamb, mode)\n",
    "\n",
    "        # training parameters\n",
    "        optimiser = tf.train.AdamOptimizer().minimize(model.mean_log_loss)\n",
    "        #optimiser = tf.train.GradientDescentOptimizer(learning_rate=0.01).minimize(model.mean_log_loss)\n",
    "        with tf.Session() as sess:\n",
    "\n",
    "            sess.run(tf.global_variables_initializer())\n",
    "\n",
    "            for iters in range(max_iters):\n",
    "\n",
    "                idx = np.random.randint(nb_train, size=batch_size)\n",
    "\n",
    "                _, loss,train_probs = sess.run([optimiser, model.mean_log_loss,model.probs], feed_dict={\n",
    "                    model.X : x_train[idx], model.Y : y_train[idx], model.train : True})\n",
    "                acc = np.sum(np.round(train_probs) == y_train[idx]) / float(128)\n",
    "               # print(\"train_accuracy\",acc)\n",
    "                #print(np.sum(err1))\n",
    "                #print(np.sum(err2))\n",
    "            \n",
    "\n",
    "                if iters % 200 == 0:\n",
    "                    print('Iteration: %d, %.03f' % (iters, loss))  \n",
    "                    pred= sess.run([model.probs],\n",
    "                                    feed_dict={model.X : x_test, model.train : False})\n",
    "\n",
    "                    acc = np.sum(np.round(pred) == y_test) / float(nb_test)\n",
    "                    accs.append(acc)\n",
    "                    print('Accuracy: %.03f' % acc)\n",
    "            \n",
    "            all_accuracies.append(accs)\n",
    "\n",
    "\n",
    "    return all_accuracies\n",
    "\n",
    "\n",
    "max_iters = 2000\n",
    "lambdas = [1e-6,1e-5,1e-4,1e-3,1e-2,1e-1,1e-0]\n",
    "\n",
    "\n",
    "\n",
    "acc_linear=[]\n",
    "acc_iid=[]\n",
    "acc_struc=[]\n",
    "\n",
    "for i in range(5):            \n",
    "    x_all, y_all= sklearn.datasets.make_classification(n_samples=10101, n_features=1000, n_informative=100, n_redundant=0, n_repeated=0, n_classes=2, n_clusters_per_class=2, weights=None, flip_y=0.01, class_sep=1.0, hypercube=True, shift=0.0, scale=1.0, shuffle=True, random_state=None)\n",
    "    x_train=x_all[range(100),]\n",
    "    y_train=y_all[range(100),]\n",
    "    x_test=x_all[101:,]\n",
    "    y_test=y_all[101:]\n",
    "\n",
    "\n",
    "    dim = 1000\n",
    "    nb_train = x_train.shape[0]\n",
    "    nb_test = x_test.shape[0]\n",
    "    nb_classes=1\n",
    "\n",
    "    x_train = x_train.astype('float32')\n",
    "    x_test = x_test.astype('float32')\n",
    "\n",
    "\n",
    "    print('x_train shape:', x_train.shape)\n",
    "    print(nb_train, 'train samples')\n",
    "    print(nb_test, 'test samples')\n",
    "\n",
    "    # Convert class vectors to binary class matrices.\n",
    "    #y_train = to_categorical(y_train, nb_classes)\n",
    "    #y_test = to_categorical(y_test, nb_classes)\n",
    "\n",
    "    y_train=y_train.reshape(nb_train,1)\n",
    "    y_test=y_test.reshape(nb_test,1)\n",
    "\n",
    "    batch_size = 32\n",
    "\n",
    "    print('#### iid  #### iteration ',i)\n",
    "    acc_iid_i=training(lambdas, 'iid', max_iters)\n",
    "    acc_iid.append([np.max([np.max(acc) for acc in acc_iid_i])])\n",
    "\n",
    "    print('#### struc #### iteration ',i)\n",
    "    acc_struc_i=training(lambdas, 'struc', max_iters)\n",
    "    acc_struc.append([np.max([np.max(acc) for acc in acc_struc_i])])\n",
    "    print('#### no noise ####   iteration ',i)\n",
    "    acc_linear_i=training([None], None , max_iters)\n",
    "    acc_linear.append([accs[-1] for accs in acc_linear_i])"
   ]
  },
  {
   "cell_type": "code",
   "execution_count": 10,
   "metadata": {},
   "outputs": [
    {
     "data": {
      "text/plain": [
       "(0.68056, 0.02296654958847756)"
      ]
     },
     "execution_count": 10,
     "metadata": {},
     "output_type": "execute_result"
    }
   ],
   "source": [
    "np.mean(acc_linear), np.std(acc_linear)"
   ]
  },
  {
   "cell_type": "code",
   "execution_count": 11,
   "metadata": {},
   "outputs": [
    {
     "data": {
      "text/plain": [
       "(0.6864600000000001, 0.020661229392269956)"
      ]
     },
     "execution_count": 11,
     "metadata": {},
     "output_type": "execute_result"
    }
   ],
   "source": [
    "np.mean(acc_iid), np.std(acc_iid)"
   ]
  },
  {
   "cell_type": "code",
   "execution_count": 12,
   "metadata": {},
   "outputs": [
    {
     "data": {
      "text/plain": [
       "(0.68758, 0.022539955634384)"
      ]
     },
     "execution_count": 12,
     "metadata": {},
     "output_type": "execute_result"
    }
   ],
   "source": [
    "np.mean(acc_struc), np.std(acc_struc)"
   ]
  },
  {
   "cell_type": "code",
   "execution_count": null,
   "metadata": {
    "scrolled": true
   },
   "outputs": [],
   "source": [
    "def training(seqlambda, mode, max_iters=6000, learning_rate=1):\n",
    "\n",
    "    all_accuracies = []\n",
    "    all_cor_norms = []\n",
    "    acts1 = []\n",
    "    for lamb in seqlambda:\n",
    "\n",
    "        print('Lamb', lamb)\n",
    "        accs = [] ; cor_norms = [] \n",
    "        \n",
    "        model = Linear_Model(dim, nb_classes, batch_size, lamb, mode)\n",
    "        #model = MLP(dimension, nb_hidden1, nb_hidden2,nb_classes, batch_size, lamb, mode)\n",
    "\n",
    "        # training parameters\n",
    "        optimiser = tf.train.AdamOptimizer().minimize(model.mean_log_loss)\n",
    "        #optimiser = tf.train.GradientDescentOptimizer(learning_rate=0.01).minimize(model.mean_log_loss)\n",
    "        with tf.Session() as sess:\n",
    "\n",
    "            sess.run(tf.global_variables_initializer())\n",
    "\n",
    "            for iters in range(max_iters):\n",
    "\n",
    "                idx = np.random.randint(nb_train, size=batch_size)\n",
    "\n",
    "                _, loss,train_probs = sess.run([optimiser, model.mean_log_loss,model.probs], feed_dict={\n",
    "                    model.X : x_train[idx], model.Y : y_train[idx], model.train : True})\n",
    "                acc = np.sum(np.round(train_probs) == y_train[idx]) / float(128)\n",
    "               # print(\"train_accuracy\",acc)\n",
    "                #print(np.sum(err1))\n",
    "                #print(np.sum(err2))\n",
    "            \n",
    "\n",
    "                if iters % 200 == 0:\n",
    "                    print('Iteration: %d, %.03f' % (iters, loss))  \n",
    "                    pred= sess.run([model.probs],\n",
    "                                    feed_dict={model.X : x_test, model.train : False})\n",
    "\n",
    "                    acc = np.sum(np.round(pred) == y_test) / float(nb_test)\n",
    "                    accs.append(acc)\n",
    "                    #print('Accuracy: %.03f' % acc)\n",
    "            \n",
    "            all_accuracies.append(accs)\n",
    "\n",
    "\n",
    "    return all_accuracies\n",
    "\n",
    "\n",
    "max_iters = 2000\n",
    "lambdas = [1e-6,1e-5,1e-4,1e-3,1e-2,1e-1,1e-0]\n",
    "\n",
    "\n",
    "\n",
    "acc_linear=[]\n",
    "acc_iid=[]\n",
    "acc_struc=[]\n",
    "\n",
    "for i in range(5):            \n",
    "    x_all, y_all= sklearn.datasets.make_classification(n_samples=10101, n_features=10000, n_informative=1000, n_redundant=0, n_repeated=0, n_classes=2, n_clusters_per_class=2, weights=None, flip_y=0.01, class_sep=1.0, hypercube=True, shift=0.0, scale=1.0, shuffle=True, random_state=None)\n",
    "    x_train=x_all[range(100),]\n",
    "    y_train=y_all[range(100),]\n",
    "    x_test=x_all[101:,]\n",
    "    y_test=y_all[101:]\n",
    "\n",
    "\n",
    "    dim = 10000\n",
    "    nb_train = x_train.shape[0]\n",
    "    nb_test = x_test.shape[0]\n",
    "    nb_classes=1\n",
    "\n",
    "    x_train = x_train.astype('float32')\n",
    "    x_test = x_test.astype('float32')\n",
    "\n",
    "\n",
    "    print('x_train shape:', x_train.shape)\n",
    "    print(nb_train, 'train samples')\n",
    "    print(nb_test, 'test samples')\n",
    "\n",
    "    # Convert class vectors to binary class matrices.\n",
    "    #y_train = to_categorical(y_train, nb_classes)\n",
    "    #y_test = to_categorical(y_test, nb_classes)\n",
    "\n",
    "    y_train=y_train.reshape(nb_train,1)\n",
    "    y_test=y_test.reshape(nb_test,1)\n",
    "\n",
    "    batch_size = 32\n",
    "\n",
    "    print('#### iid  #### iteration ',i)\n",
    "    acc_iid_i=training(lambdas, 'iid', max_iters)\n",
    "    acc_iid.append([np.max([np.max(acc) for acc in acc_iid_i])])\n",
    "\n",
    "    print('#### struc #### iteration ',i)\n",
    "    acc_struc_i=training(lambdas, 'struc', max_iters)\n",
    "    acc_struc.append([np.max([np.max(acc) for acc in acc_struc_i])])\n",
    "    print('#### no noise ####   iteration ',i)\n",
    "    acc_linear_i=training([None], None , max_iters)\n",
    "    acc_linear.append([accs[-1] for accs in acc_linear_i])"
   ]
  },
  {
   "cell_type": "code",
   "execution_count": null,
   "metadata": {
    "collapsed": true
   },
   "outputs": [],
   "source": [
    "np.mean(acc_linear), np.std(acc_linear)"
   ]
  },
  {
   "cell_type": "code",
   "execution_count": null,
   "metadata": {
    "collapsed": true
   },
   "outputs": [],
   "source": [
    "np.mean(acc_iid), np.std(acc_iid)"
   ]
  },
  {
   "cell_type": "code",
   "execution_count": null,
   "metadata": {
    "collapsed": true
   },
   "outputs": [],
   "source": [
    "np.mean(acc_struc), np.std(acc_struc)"
   ]
  },
  {
   "cell_type": "code",
   "execution_count": null,
   "metadata": {},
   "outputs": [],
   "source": [
    "def training(seqlambda, mode, max_iters=6000, learning_rate=1):\n",
    "\n",
    "    all_accuracies = []\n",
    "    all_cor_norms = []\n",
    "    acts1 = []\n",
    "    for lamb in seqlambda:\n",
    "\n",
    "        print('Lamb', lamb)\n",
    "        accs = [] ; cor_norms = [] \n",
    "        \n",
    "        model = Linear_Model(dim, nb_classes, batch_size, lamb, mode)\n",
    "        #model = MLP(dimension, nb_hidden1, nb_hidden2,nb_classes, batch_size, lamb, mode)\n",
    "\n",
    "        # training parameters\n",
    "        optimiser = tf.train.AdamOptimizer().minimize(model.mean_log_loss)\n",
    "        #optimiser = tf.train.GradientDescentOptimizer(learning_rate=0.01).minimize(model.mean_log_loss)\n",
    "        with tf.Session() as sess:\n",
    "\n",
    "            sess.run(tf.global_variables_initializer())\n",
    "\n",
    "            for iters in range(max_iters):\n",
    "\n",
    "                idx = np.random.randint(nb_train, size=batch_size)\n",
    "\n",
    "                _, loss,train_probs = sess.run([optimiser, model.mean_log_loss,model.probs], feed_dict={\n",
    "                    model.X : x_train[idx], model.Y : y_train[idx], model.train : True})\n",
    "                acc = np.sum(np.round(train_probs) == y_train[idx]) / float(128)\n",
    "               # print(\"train_accuracy\",acc)\n",
    "                #print(np.sum(err1))\n",
    "                #print(np.sum(err2))\n",
    "            \n",
    "\n",
    "                if iters % 200 == 0:\n",
    "                    print('Iteration: %d, %.03f' % (iters, loss))  \n",
    "                    pred= sess.run([model.probs],\n",
    "                                    feed_dict={model.X : x_test, model.train : False})\n",
    "\n",
    "                    acc = np.sum(np.round(pred) == y_test) / float(nb_test)\n",
    "                    accs.append(acc)\n",
    "                    print('Accuracy: %.03f' % acc)\n",
    "            \n",
    "            all_accuracies.append(accs)\n",
    "\n",
    "\n",
    "    return all_accuracies\n",
    "\n",
    "\n",
    "max_iters = 2000\n",
    "lambdas = [1e-6,1e-5,1e-4,1e-3,1e-2,1e-1,1e-0]\n",
    "\n",
    "\n",
    "\n",
    "acc_linear=[]\n",
    "acc_iid=[]\n",
    "acc_struc=[]\n",
    "\n",
    "for i in range(5):            \n",
    "    x_all, y_all= sklearn.datasets.make_classification(n_samples=10101, n_features=1000, n_informative=100, n_redundant=100, n_repeated=0, n_classes=2, n_clusters_per_class=2, weights=None, flip_y=0.01, class_sep=1.0, hypercube=True, shift=0.0, scale=1.0, shuffle=True, random_state=None)\n",
    "    x_train=x_all[range(100),]\n",
    "    y_train=y_all[range(100),]\n",
    "    x_test=x_all[101:,]\n",
    "    y_test=y_all[101:]\n",
    "\n",
    "\n",
    "    dim = 1000\n",
    "    nb_train = x_train.shape[0]\n",
    "    nb_test = x_test.shape[0]\n",
    "    nb_classes=1\n",
    "\n",
    "    x_train = x_train.astype('float32')\n",
    "    x_test = x_test.astype('float32')\n",
    "\n",
    "\n",
    "    print('x_train shape:', x_train.shape)\n",
    "    print(nb_train, 'train samples')\n",
    "    print(nb_test, 'test samples')\n",
    "\n",
    "    # Convert class vectors to binary class matrices.\n",
    "    #y_train = to_categorical(y_train, nb_classes)\n",
    "    #y_test = to_categorical(y_test, nb_classes)\n",
    "\n",
    "    y_train=y_train.reshape(nb_train,1)\n",
    "    y_test=y_test.reshape(nb_test,1)\n",
    "\n",
    "    batch_size = 32\n",
    "\n",
    "    print('#### iid  #### iteration ',i)\n",
    "    acc_iid_i=training(lambdas, 'iid', max_iters)\n",
    "    acc_iid.append([np.max([np.max(acc) for acc in acc_iid_i])])\n",
    "\n",
    "    print('#### struc #### iteration ',i)\n",
    "    acc_struc_i=training(lambdas, 'struc', max_iters)\n",
    "    acc_struc.append([np.max([np.max(acc) for acc in acc_struc_i])])\n",
    "    print('#### no noise ####   iteration ',i)\n",
    "    acc_linear_i=training([None], None , max_iters)\n",
    "    acc_linear.append([accs[-1] for accs in acc_linear_i])"
   ]
  },
  {
   "cell_type": "code",
   "execution_count": 11,
   "metadata": {},
   "outputs": [
    {
     "data": {
      "text/plain": [
       "(0.65832, 0.016279975429956867)"
      ]
     },
     "execution_count": 11,
     "metadata": {},
     "output_type": "execute_result"
    }
   ],
   "source": [
    "np.mean(acc_linear), np.std(acc_linear)"
   ]
  },
  {
   "cell_type": "code",
   "execution_count": 12,
   "metadata": {},
   "outputs": [
    {
     "data": {
      "text/plain": [
       "(0.67628, 0.013198393841676362)"
      ]
     },
     "execution_count": 12,
     "metadata": {},
     "output_type": "execute_result"
    }
   ],
   "source": [
    "np.mean(acc_iid), np.std(acc_iid)"
   ]
  },
  {
   "cell_type": "code",
   "execution_count": 13,
   "metadata": {},
   "outputs": [
    {
     "data": {
      "text/plain": [
       "(0.68212, 0.013086389876509098)"
      ]
     },
     "execution_count": 13,
     "metadata": {},
     "output_type": "execute_result"
    }
   ],
   "source": [
    "np.mean(acc_struc), np.std(acc_struc)"
   ]
  },
  {
   "cell_type": "markdown",
   "metadata": {},
   "source": [
    "We also compare fast structured dropout with structured dropout version : "
   ]
  },
  {
   "cell_type": "code",
   "execution_count": 8,
   "metadata": {
    "collapsed": true
   },
   "outputs": [],
   "source": [
    "from tensorflow.contrib.distributions import MultivariateNormalFullCovariance as mvnfc\n",
    "\n",
    "\n",
    "def dropout_layer(x, mode, l, dim):\n",
    "\n",
    "    if mode == 'struc':\n",
    "        xm = tf.reduce_mean(x, 0)\n",
    "        cov = tf.matmul(tf.transpose(x-xm), x-xm) / batch_size\n",
    "        cov += 1e-2 * tf.eye(dim, dtype='float32')\n",
    "       # dia=tf.sqrt(tf.diag(1/tf.diag_part(cov)))\n",
    "       # corr= tf.matmul(tf.matmul(dia,cov),dia)\n",
    "        sample = mvnfc(tf.zeros(shape=[dim]), cov).sample()\n",
    "        return tf.multiply(x, np.sqrt(l)* sample + tf.ones(shape=[dim]))\n",
    "\n",
    "    elif mode == 'struc_fast':\n",
    "       #mu = tf.Variable(lambda : tf.ones(shape=[dim]))\n",
    "        xm = tf.reduce_mean(x, 0)\n",
    "        sample = tf.distributions.Normal(loc=tf.zeros(shape=[dim]),scale= tf.ones(shape=[dim])).sample()\n",
    "        a= tf.expand_dims(sample,1)\n",
    "        sample =  tf.matmul((x-xm),a)/ np.sqrt(batch_size)\n",
    "        return tf.multiply(x, np.sqrt(l)* sample + tf.ones(shape=[dim]))\n",
    "\n",
    "    elif mode == 'iid':\n",
    "      # mu = tf.Variable(lambda : tf.ones(shape=[dim]))\n",
    "        cov =  tf.eye(dim, dtype='float32')\n",
    "        sample = mvnfc(tf.zeros(shape=[dim]), cov).sample()\n",
    "        return tf.multiply(x, np.sqrt(l)* sample + tf.ones(shape=[dim]))\n",
    "\n",
    "    else:  # no dropout\n",
    "        return x"
   ]
  },
  {
   "cell_type": "code",
   "execution_count": null,
   "metadata": {
    "scrolled": true
   },
   "outputs": [],
   "source": [
    "from time import time\n",
    "max_iters = 2000\n",
    "lambdas = [1e-2]\n",
    "\n",
    "\n",
    "acc_fstruc=[]\n",
    "acc_struc=[]\n",
    "\n",
    "for i in range(5):            \n",
    "    x_all, y_all= sklearn.datasets.make_classification(n_samples=10101, n_features=1000, n_informative=100, n_redundant=100, n_repeated=0, n_classes=2, n_clusters_per_class=2, weights=None, flip_y=0.01, class_sep=1.0, hypercube=True, shift=0.0, scale=1.0, shuffle=True, random_state=None)\n",
    "    x_train=x_all[range(100),]\n",
    "    y_train=y_all[range(100),]\n",
    "    x_test=x_all[101:,]\n",
    "    y_test=y_all[101:]\n",
    "\n",
    "\n",
    "    dim = 1000\n",
    "    nb_train = x_train.shape[0]\n",
    "    nb_test = x_test.shape[0]\n",
    "    nb_classes=1\n",
    "\n",
    "    x_train = x_train.astype('float32')\n",
    "    x_test = x_test.astype('float32')\n",
    "\n",
    "\n",
    "    print('x_train shape:', x_train.shape)\n",
    "    print(nb_train, 'train samples')\n",
    "    print(nb_test, 'test samples')\n",
    "\n",
    "    # Convert class vectors to binary class matrices.\n",
    "    #y_train = to_categorical(y_train, nb_classes)\n",
    "    #y_test = to_categorical(y_test, nb_classes)\n",
    "\n",
    "    y_train=y_train.reshape(nb_train,1)\n",
    "    y_test=y_test.reshape(nb_test,1)\n",
    "\n",
    "    batch_size = 32\n",
    "\n",
    "\n",
    "    print('#### fast_struc  #### iteration ',i)\n",
    "    t0 = time()\n",
    "    acc_fstruc_i=training(lambdas, 'iid', max_iters)\n",
    "    acc_fstruc.append([np.max([np.max(acc) for acc in acc_fstruc_i])])\n",
    "    t1 = time()\n",
    "    print('#### struc #### iteration ',i)\n",
    "    acc_struc_i=training(lambdas, 'struc', max_iters)\n",
    "    acc_struc.append([np.max([np.max(acc) for acc in acc_struc_i])])\n",
    "    t2 = time()\n"
   ]
  },
  {
   "cell_type": "code",
   "execution_count": 6,
   "metadata": {},
   "outputs": [
    {
     "data": {
      "text/plain": [
       "(0.6711, 0.022516482851457947)"
      ]
     },
     "execution_count": 6,
     "metadata": {},
     "output_type": "execute_result"
    }
   ],
   "source": [
    "np.mean(acc_struc), np.std(acc_struc)"
   ]
  },
  {
   "cell_type": "code",
   "execution_count": 7,
   "metadata": {},
   "outputs": [
    {
     "data": {
      "text/plain": [
       "(0.6693399999999998, 0.02531233691305489)"
      ]
     },
     "execution_count": 7,
     "metadata": {},
     "output_type": "execute_result"
    }
   ],
   "source": [
    "np.mean(acc_fstruc), np.std(acc_fstruc)"
   ]
  },
  {
   "cell_type": "code",
   "execution_count": 13,
   "metadata": {},
   "outputs": [
    {
     "data": {
      "image/png": "[encoded data removed]",
      "text/plain": [
       "<Figure size 1000x800 with 1 Axes>"
      ]
     },
     "metadata": {},
     "output_type": "display_data"
    }
   ],
   "source": [
    "sns.reset_orig()\n",
    "\n",
    "fig, ax = plt.subplots(figsize=(10, 8))\n",
    "\n",
    "line_styles = ['--o', '--*', '--.','--+',':']\n",
    "\n",
    "for i, series in enumerate(acc_struc_i):\n",
    "    ax.plot(np.arange(0, max_iters, 200), series,\n",
    "            line_styles[i], color='blue', linewidth=1,\n",
    "            label=r'struc. drop. $\\lambda=$%.0e' % lambdas[i])\n",
    "    \n",
    "for i, series in enumerate(acc_fstruc_i):\n",
    "    ax.plot(np.arange(0, max_iters, 200), series,\n",
    "            line_styles[i], color='purple', linewidth=1,\n",
    "            label=r'fast struc. drop. $\\lambda=$%.0e' % lambdas[i])\n",
    "\n",
    "\n",
    "ax.set_xlabel('iteration')\n",
    "ax.set_ylabel('Correlation F. norm')\n",
    "\n",
    "# ax.set_ylim([0.8, 1.0])\n",
    "\n",
    "plt.legend(ncol=2,prop={'size': 15})\n",
    "plt.show()"
   ]
  },
  {
   "cell_type": "code",
   "execution_count": 14,
   "metadata": {},
   "outputs": [
    {
     "name": "stdout",
     "output_type": "stream",
     "text": [
      "average time for Fast structured dropout:  3.4186959266662598\n"
     ]
    }
   ],
   "source": [
    "print('average time for Fast structured dropout: ',t1-t0)"
   ]
  },
  {
   "cell_type": "code",
   "execution_count": 15,
   "metadata": {},
   "outputs": [
    {
     "name": "stdout",
     "output_type": "stream",
     "text": [
      "average time for  structured dropout:  7.841660737991333\n"
     ]
    }
   ],
   "source": [
    "print('average time for  structured dropout: ',t2-t1)"
   ]
  },
  {
   "cell_type": "code",
   "execution_count": null,
   "metadata": {
    "collapsed": true
   },
   "outputs": [],
   "source": []
  }
 ],
 "metadata": {
  "anaconda-cloud": {},
  "kernelspec": {
   "display_name": "Python 3",
   "language": "python",
   "name": "python3"
  },
  "language_info": {
   "codemirror_mode": {
    "name": "ipython",
    "version": 3
   },
   "file_extension": ".py",
   "mimetype": "text/x-python",
   "name": "python",
   "nbconvert_exporter": "python",
   "pygments_lexer": "ipython3",
   "version": "3.6.5"
  }
 },
 "nbformat": 4,
 "nbformat_minor": 2
}
